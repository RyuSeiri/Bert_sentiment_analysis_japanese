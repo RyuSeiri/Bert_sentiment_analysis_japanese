{
 "cells": [
  {
   "cell_type": "code",
   "execution_count": 14,
   "id": "2bda1840",
   "metadata": {},
   "outputs": [],
   "source": [
    "import pandas as pd\n",
    "from pathlib import Path\n",
    "import json\n",
    "import pickle\n",
    "import joblib"
   ]
  },
  {
   "cell_type": "code",
   "execution_count": 2,
   "id": "72ddf401",
   "metadata": {},
   "outputs": [],
   "source": [
    "data_dir = \"chABSA-dataset/chABSA-dataset/\""
   ]
  },
  {
   "cell_type": "code",
   "execution_count": 3,
   "id": "ffa462cd",
   "metadata": {},
   "outputs": [],
   "source": [
    "data_path = Path(data_dir)"
   ]
  },
  {
   "cell_type": "code",
   "execution_count": 4,
   "id": "94066b78",
   "metadata": {},
   "outputs": [],
   "source": [
    "path_list = [p for p in data_path.iterdir()]"
   ]
  },
  {
   "cell_type": "code",
   "execution_count": 5,
   "id": "aa02ccc8",
   "metadata": {},
   "outputs": [
    {
     "data": {
      "text/plain": [
       "230"
      ]
     },
     "execution_count": 5,
     "metadata": {},
     "output_type": "execute_result"
    }
   ],
   "source": [
    "len(path_list)"
   ]
  },
  {
   "cell_type": "code",
   "execution_count": 6,
   "id": "15492384",
   "metadata": {},
   "outputs": [
    {
     "data": {
      "text/plain": [
       "[WindowsPath('chABSA-dataset/chABSA-dataset/e00008_ann.json'),\n",
       " WindowsPath('chABSA-dataset/chABSA-dataset/e00017_ann.json'),\n",
       " WindowsPath('chABSA-dataset/chABSA-dataset/e00024_ann.json'),\n",
       " WindowsPath('chABSA-dataset/chABSA-dataset/e00026_ann.json'),\n",
       " WindowsPath('chABSA-dataset/chABSA-dataset/e00030_ann.json')]"
      ]
     },
     "execution_count": 6,
     "metadata": {},
     "output_type": "execute_result"
    }
   ],
   "source": [
    "path_list[:5]"
   ]
  },
  {
   "cell_type": "code",
   "execution_count": 7,
   "id": "233e820f",
   "metadata": {},
   "outputs": [
    {
     "data": {
      "text/plain": [
       "[(4,\n",
       "  '当連結会計年度におけるわが国経済は、政府の経済政策や日銀の金融緩和策により、企業業績、雇用・所得環境は改善し、景気も緩やかな回復基調のうちに推移いたしましたが、中国をはじめとするアジア新興国経済の減速懸念や、英国の欧州連合（ＥＵ）離脱決定、米国新政権への移行など、引き続き先行きは不透明な状況となっております'),\n",
       " (-5,\n",
       "  '当社グループを取り巻く環境は、実質賃金が伸び悩むなか、消費者の皆様の生活防衛意識の高まりや節約志向により、個人消費は本格的な改善には至らず、また少子高齢化、人口減少による社会構造の変化、雇用改善に伴う労働コストの上昇、企業間競争の激化など、引き続き厳しい状況となりました'),\n",
       " (2,\n",
       "  '以上の結果、当連結会計年度の当社グループの業績は、売上高631億19百万円（前期比3.5％増）、営業利益34億30百万円（前期比0.1％増）、経常利益43億79百万円（前期比7.5％増）、親会社株主に帰属する当期純利益は28億28百万円（前期比8.9％増）となりました'),\n",
       " (1,\n",
       "  'なお、当連結会計年度の生産量は、ブナピーを含めブナシメジ42,602ｔ（同5.5％増）、エリンギ19,250ｔ（同0.2％減）、マイタケ14,281ｔ（同4.3％増）となりました'),\n",
       " (1,\n",
       "  '平成27年４月の火災により生産を休止していた苫小牧第一きのこセンターが、工場を再建し、平成28年４月27日よりブナシメジの収穫・出荷を再開したことや、カットブナシメジ専用工場として新設した富山きのこセンターが平成28年９月上旬から収穫・出荷を開始したことにより、ブナシメジの生産量は増加いたしました'),\n",
       " (1,\n",
       "  'また、改修のため一時生産を休止しておりました広川きのこセンターにおきまして、平成28年９月上旬より霜降りひらたけの収穫・出荷を開始したことなどにより、きのこ全体の生産量は増加いたしました'),\n",
       " (-2, '春から夏にかけましては個人消費の低迷などにより、きのこの価格は厳しい状況で推移いたしました'),\n",
       " (2, '反面、秋から冬にかけましては天候不順などによる野菜価格の高騰により、きのこの価格は堅調に推移いたしました'),\n",
       " (1, '以上の結果、国内きのこ事業全体の売上高は422億96百万円（同3.1％増）となりました'),\n",
       " (2, '海外きのこ事業におきましては、各子会社が稼働率を高めたことにより、生産量は増加いたしました')]"
      ]
     },
     "execution_count": 7,
     "metadata": {},
     "output_type": "execute_result"
    }
   ],
   "source": [
    "rating = []\n",
    "for file in path_list:\n",
    "    with open(file, \"br\") as f:\n",
    "        j =  json.load(f)\n",
    "    sentences = j[\"sentences\"]\n",
    "    for obj in sentences:\n",
    "        s = obj[\"sentence\"]\n",
    "        op = obj[\"opinions\"]\n",
    "        porarity = 0\n",
    "        for o in op:\n",
    "            p = o[\"polarity\"]\n",
    "            if p == \"positive\":\n",
    "                porarity += 1\n",
    "            elif p == \"negative\":\n",
    "                porarity -= 1\n",
    "        if porarity !=0 :\n",
    "            rating.append((porarity, s))\n",
    "rating[:10]"
   ]
  },
  {
   "cell_type": "code",
   "execution_count": 8,
   "id": "2d84bf9c",
   "metadata": {},
   "outputs": [],
   "source": [
    "dt = pd.DataFrame(rating,columns=[\"Y\",\"X\"])"
   ]
  },
  {
   "cell_type": "code",
   "execution_count": 9,
   "id": "5177b253",
   "metadata": {},
   "outputs": [],
   "source": [
    "def make_y(v):\n",
    "    if v > 0 :\n",
    "        return 1\n",
    "    else:\n",
    "        return 0\n",
    "dt[\"Y\"] = dt[\"Y\"].apply(make_y)\n",
    "def make_l(v):\n",
    "    return len(v)\n",
    "dt[\"L\"] = dt[\"X\"].apply(make_l)"
   ]
  },
  {
   "cell_type": "code",
   "execution_count": 23,
   "id": "040bb095",
   "metadata": {},
   "outputs": [
    {
     "data": {
      "text/html": [
       "<div>\n",
       "<style scoped>\n",
       "    .dataframe tbody tr th:only-of-type {\n",
       "        vertical-align: middle;\n",
       "    }\n",
       "\n",
       "    .dataframe tbody tr th {\n",
       "        vertical-align: top;\n",
       "    }\n",
       "\n",
       "    .dataframe thead th {\n",
       "        text-align: right;\n",
       "    }\n",
       "</style>\n",
       "<table border=\"1\" class=\"dataframe\">\n",
       "  <thead>\n",
       "    <tr style=\"text-align: right;\">\n",
       "      <th></th>\n",
       "      <th>Y</th>\n",
       "      <th>X</th>\n",
       "      <th>L</th>\n",
       "    </tr>\n",
       "  </thead>\n",
       "  <tbody>\n",
       "    <tr>\n",
       "      <th>0</th>\n",
       "      <td>1</td>\n",
       "      <td>当連結会計年度におけるわが国経済は、政府の経済政策や日銀の金融緩和策により、企業業績、雇用・...</td>\n",
       "      <td>154</td>\n",
       "    </tr>\n",
       "    <tr>\n",
       "      <th>1</th>\n",
       "      <td>0</td>\n",
       "      <td>当社グループを取り巻く環境は、実質賃金が伸び悩むなか、消費者の皆様の生活防衛意識の高まりや節...</td>\n",
       "      <td>135</td>\n",
       "    </tr>\n",
       "    <tr>\n",
       "      <th>2</th>\n",
       "      <td>1</td>\n",
       "      <td>以上の結果、当連結会計年度の当社グループの業績は、売上高631億19百万円（前期比3.5％増...</td>\n",
       "      <td>134</td>\n",
       "    </tr>\n",
       "    <tr>\n",
       "      <th>3</th>\n",
       "      <td>1</td>\n",
       "      <td>なお、当連結会計年度の生産量は、ブナピーを含めブナシメジ42,602ｔ（同5.5％増）、エリ...</td>\n",
       "      <td>89</td>\n",
       "    </tr>\n",
       "    <tr>\n",
       "      <th>4</th>\n",
       "      <td>1</td>\n",
       "      <td>平成27年４月の火災により生産を休止していた苫小牧第一きのこセンターが、工場を再建し、平成2...</td>\n",
       "      <td>149</td>\n",
       "    </tr>\n",
       "    <tr>\n",
       "      <th>...</th>\n",
       "      <td>...</td>\n",
       "      <td>...</td>\n",
       "      <td>...</td>\n",
       "    </tr>\n",
       "    <tr>\n",
       "      <th>2808</th>\n",
       "      <td>1</td>\n",
       "      <td>利益につきましては、取替工事の増加及び保守契約による安定的な利益の確保により、セグメント利益...</td>\n",
       "      <td>79</td>\n",
       "    </tr>\n",
       "    <tr>\n",
       "      <th>2809</th>\n",
       "      <td>0</td>\n",
       "      <td>前年の東北及び首都圏における大型施設と同規模の売上物件がなく、売上高は2,745百万円（前年...</td>\n",
       "      <td>61</td>\n",
       "    </tr>\n",
       "    <tr>\n",
       "      <th>2810</th>\n",
       "      <td>0</td>\n",
       "      <td>利益につきましては、前年計上された高採算の特殊大型物件の反動や、工期の長い物件に係る労務費・...</td>\n",
       "      <td>111</td>\n",
       "    </tr>\n",
       "    <tr>\n",
       "      <th>2811</th>\n",
       "      <td>1</td>\n",
       "      <td>その他のセグメントでは駐輪システムが堅調に推移し、売上高は721百万円（前年同期比0.8％増...</td>\n",
       "      <td>53</td>\n",
       "    </tr>\n",
       "    <tr>\n",
       "      <th>2812</th>\n",
       "      <td>0</td>\n",
       "      <td>セグメント利益（営業利益）につきましては、経費の微増により59百万円（前年同期比15.5％減...</td>\n",
       "      <td>53</td>\n",
       "    </tr>\n",
       "  </tbody>\n",
       "</table>\n",
       "<p>2813 rows × 3 columns</p>\n",
       "</div>"
      ],
      "text/plain": [
       "      Y                                                  X    L\n",
       "0     1  当連結会計年度におけるわが国経済は、政府の経済政策や日銀の金融緩和策により、企業業績、雇用・...  154\n",
       "1     0  当社グループを取り巻く環境は、実質賃金が伸び悩むなか、消費者の皆様の生活防衛意識の高まりや節...  135\n",
       "2     1  以上の結果、当連結会計年度の当社グループの業績は、売上高631億19百万円（前期比3.5％増...  134\n",
       "3     1  なお、当連結会計年度の生産量は、ブナピーを含めブナシメジ42,602ｔ（同5.5％増）、エリ...   89\n",
       "4     1  平成27年４月の火災により生産を休止していた苫小牧第一きのこセンターが、工場を再建し、平成2...  149\n",
       "...  ..                                                ...  ...\n",
       "2808  1  利益につきましては、取替工事の増加及び保守契約による安定的な利益の確保により、セグメント利益...   79\n",
       "2809  0  前年の東北及び首都圏における大型施設と同規模の売上物件がなく、売上高は2,745百万円（前年...   61\n",
       "2810  0  利益につきましては、前年計上された高採算の特殊大型物件の反動や、工期の長い物件に係る労務費・...  111\n",
       "2811  1  その他のセグメントでは駐輪システムが堅調に推移し、売上高は721百万円（前年同期比0.8％増...   53\n",
       "2812  0  セグメント利益（営業利益）につきましては、経費の微増により59百万円（前年同期比15.5％減...   53\n",
       "\n",
       "[2813 rows x 3 columns]"
      ]
     },
     "execution_count": 23,
     "metadata": {},
     "output_type": "execute_result"
    }
   ],
   "source": [
    "dt"
   ]
  },
  {
   "cell_type": "code",
   "execution_count": 12,
   "id": "bdaa6bb5",
   "metadata": {},
   "outputs": [],
   "source": [
    "with open(\"orignal_data.pkl\", \"wb\") as myprofile:  \n",
    "    pickle.dump(dt,myprofile)"
   ]
  },
  {
   "cell_type": "code",
   "execution_count": 15,
   "id": "1c7d340a",
   "metadata": {},
   "outputs": [
    {
     "data": {
      "text/html": [
       "<div>\n",
       "<style scoped>\n",
       "    .dataframe tbody tr th:only-of-type {\n",
       "        vertical-align: middle;\n",
       "    }\n",
       "\n",
       "    .dataframe tbody tr th {\n",
       "        vertical-align: top;\n",
       "    }\n",
       "\n",
       "    .dataframe thead th {\n",
       "        text-align: right;\n",
       "    }\n",
       "</style>\n",
       "<table border=\"1\" class=\"dataframe\">\n",
       "  <thead>\n",
       "    <tr style=\"text-align: right;\">\n",
       "      <th></th>\n",
       "      <th>Y</th>\n",
       "      <th>X</th>\n",
       "      <th>L</th>\n",
       "    </tr>\n",
       "  </thead>\n",
       "  <tbody>\n",
       "    <tr>\n",
       "      <th>0</th>\n",
       "      <td>1</td>\n",
       "      <td>当連結会計年度におけるわが国経済は、政府の経済政策や日銀の金融緩和策により、企業業績、雇用・...</td>\n",
       "      <td>154</td>\n",
       "    </tr>\n",
       "    <tr>\n",
       "      <th>1</th>\n",
       "      <td>0</td>\n",
       "      <td>当社グループを取り巻く環境は、実質賃金が伸び悩むなか、消費者の皆様の生活防衛意識の高まりや節...</td>\n",
       "      <td>135</td>\n",
       "    </tr>\n",
       "    <tr>\n",
       "      <th>2</th>\n",
       "      <td>1</td>\n",
       "      <td>以上の結果、当連結会計年度の当社グループの業績は、売上高631億19百万円（前期比3.5％増...</td>\n",
       "      <td>134</td>\n",
       "    </tr>\n",
       "    <tr>\n",
       "      <th>3</th>\n",
       "      <td>1</td>\n",
       "      <td>なお、当連結会計年度の生産量は、ブナピーを含めブナシメジ42,602ｔ（同5.5％増）、エリ...</td>\n",
       "      <td>89</td>\n",
       "    </tr>\n",
       "    <tr>\n",
       "      <th>4</th>\n",
       "      <td>1</td>\n",
       "      <td>平成27年４月の火災により生産を休止していた苫小牧第一きのこセンターが、工場を再建し、平成2...</td>\n",
       "      <td>149</td>\n",
       "    </tr>\n",
       "    <tr>\n",
       "      <th>...</th>\n",
       "      <td>...</td>\n",
       "      <td>...</td>\n",
       "      <td>...</td>\n",
       "    </tr>\n",
       "    <tr>\n",
       "      <th>2808</th>\n",
       "      <td>1</td>\n",
       "      <td>利益につきましては、取替工事の増加及び保守契約による安定的な利益の確保により、セグメント利益...</td>\n",
       "      <td>79</td>\n",
       "    </tr>\n",
       "    <tr>\n",
       "      <th>2809</th>\n",
       "      <td>0</td>\n",
       "      <td>前年の東北及び首都圏における大型施設と同規模の売上物件がなく、売上高は2,745百万円（前年...</td>\n",
       "      <td>61</td>\n",
       "    </tr>\n",
       "    <tr>\n",
       "      <th>2810</th>\n",
       "      <td>0</td>\n",
       "      <td>利益につきましては、前年計上された高採算の特殊大型物件の反動や、工期の長い物件に係る労務費・...</td>\n",
       "      <td>111</td>\n",
       "    </tr>\n",
       "    <tr>\n",
       "      <th>2811</th>\n",
       "      <td>1</td>\n",
       "      <td>その他のセグメントでは駐輪システムが堅調に推移し、売上高は721百万円（前年同期比0.8％増...</td>\n",
       "      <td>53</td>\n",
       "    </tr>\n",
       "    <tr>\n",
       "      <th>2812</th>\n",
       "      <td>0</td>\n",
       "      <td>セグメント利益（営業利益）につきましては、経費の微増により59百万円（前年同期比15.5％減...</td>\n",
       "      <td>53</td>\n",
       "    </tr>\n",
       "  </tbody>\n",
       "</table>\n",
       "<p>2813 rows × 3 columns</p>\n",
       "</div>"
      ],
      "text/plain": [
       "      Y                                                  X    L\n",
       "0     1  当連結会計年度におけるわが国経済は、政府の経済政策や日銀の金融緩和策により、企業業績、雇用・...  154\n",
       "1     0  当社グループを取り巻く環境は、実質賃金が伸び悩むなか、消費者の皆様の生活防衛意識の高まりや節...  135\n",
       "2     1  以上の結果、当連結会計年度の当社グループの業績は、売上高631億19百万円（前期比3.5％増...  134\n",
       "3     1  なお、当連結会計年度の生産量は、ブナピーを含めブナシメジ42,602ｔ（同5.5％増）、エリ...   89\n",
       "4     1  平成27年４月の火災により生産を休止していた苫小牧第一きのこセンターが、工場を再建し、平成2...  149\n",
       "...  ..                                                ...  ...\n",
       "2808  1  利益につきましては、取替工事の増加及び保守契約による安定的な利益の確保により、セグメント利益...   79\n",
       "2809  0  前年の東北及び首都圏における大型施設と同規模の売上物件がなく、売上高は2,745百万円（前年...   61\n",
       "2810  0  利益につきましては、前年計上された高採算の特殊大型物件の反動や、工期の長い物件に係る労務費・...  111\n",
       "2811  1  その他のセグメントでは駐輪システムが堅調に推移し、売上高は721百万円（前年同期比0.8％増...   53\n",
       "2812  0  セグメント利益（営業利益）につきましては、経費の微増により59百万円（前年同期比15.5％減...   53\n",
       "\n",
       "[2813 rows x 3 columns]"
      ]
     },
     "execution_count": 15,
     "metadata": {},
     "output_type": "execute_result"
    }
   ],
   "source": [
    "joblib.load(\"orignal_data.pkl\")"
   ]
  },
  {
   "cell_type": "code",
   "execution_count": null,
   "id": "079cbf8d",
   "metadata": {},
   "outputs": [],
   "source": []
  }
 ],
 "metadata": {
  "kernelspec": {
   "display_name": "Python 3 (ipykernel)",
   "language": "python",
   "name": "python3"
  },
  "language_info": {
   "codemirror_mode": {
    "name": "ipython",
    "version": 3
   },
   "file_extension": ".py",
   "mimetype": "text/x-python",
   "name": "python",
   "nbconvert_exporter": "python",
   "pygments_lexer": "ipython3",
   "version": "3.7.7"
  }
 },
 "nbformat": 4,
 "nbformat_minor": 5
}
