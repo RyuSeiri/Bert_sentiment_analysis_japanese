{
 "cells": [
  {
   "cell_type": "code",
   "execution_count": 7,
   "id": "73eee978",
   "metadata": {},
   "outputs": [],
   "source": [
    "import pickle\n",
    "from transformers import BertJapaneseTokenizer, BertForMaskedLM\n",
    "import pandas as pd\n",
    "import json\n",
    "import matplotlib.pyplot as plt\n",
    "import tensorflow as tf"
   ]
  },
  {
   "cell_type": "code",
   "execution_count": 8,
   "id": "4ad2bfbb",
   "metadata": {},
   "outputs": [],
   "source": [
    "import seaborn as sns\n",
    "import collections"
   ]
  },
  {
   "cell_type": "code",
   "execution_count": 9,
   "id": "c8dac4cf",
   "metadata": {},
   "outputs": [
    {
     "data": {
      "text/html": [
       "<div>\n",
       "<style scoped>\n",
       "    .dataframe tbody tr th:only-of-type {\n",
       "        vertical-align: middle;\n",
       "    }\n",
       "\n",
       "    .dataframe tbody tr th {\n",
       "        vertical-align: top;\n",
       "    }\n",
       "\n",
       "    .dataframe thead th {\n",
       "        text-align: right;\n",
       "    }\n",
       "</style>\n",
       "<table border=\"1\" class=\"dataframe\">\n",
       "  <thead>\n",
       "    <tr style=\"text-align: right;\">\n",
       "      <th></th>\n",
       "      <th>Y</th>\n",
       "      <th>X</th>\n",
       "      <th>L</th>\n",
       "    </tr>\n",
       "  </thead>\n",
       "  <tbody>\n",
       "    <tr>\n",
       "      <th>0</th>\n",
       "      <td>1</td>\n",
       "      <td>当連結会計年度におけるわが国経済は、政府の経済政策や日銀の金融緩和策により、企業業績、雇用・...</td>\n",
       "      <td>154</td>\n",
       "    </tr>\n",
       "    <tr>\n",
       "      <th>1</th>\n",
       "      <td>0</td>\n",
       "      <td>当社グループを取り巻く環境は、実質賃金が伸び悩むなか、消費者の皆様の生活防衛意識の高まりや節...</td>\n",
       "      <td>135</td>\n",
       "    </tr>\n",
       "  </tbody>\n",
       "</table>\n",
       "</div>"
      ],
      "text/plain": [
       "   Y                                                  X    L\n",
       "0  1  当連結会計年度におけるわが国経済は、政府の経済政策や日銀の金融緩和策により、企業業績、雇用・...  154\n",
       "1  0  当社グループを取り巻く環境は、実質賃金が伸び悩むなか、消費者の皆様の生活防衛意識の高まりや節...  135"
      ]
     },
     "execution_count": 9,
     "metadata": {},
     "output_type": "execute_result"
    }
   ],
   "source": [
    "with open(\".\\orignal_data.pkl\", \"rb\") as myprofile:  \n",
    "    dt = pickle.load(myprofile)\n",
    "dt.head(2)"
   ]
  },
  {
   "cell_type": "code",
   "execution_count": 10,
   "id": "c837eeb8",
   "metadata": {},
   "outputs": [
    {
     "data": {
      "text/plain": [
       "<AxesSubplot:xlabel='Y', ylabel='count'>"
      ]
     },
     "execution_count": 10,
     "metadata": {},
     "output_type": "execute_result"
    },
    {
     "data": {
      "image/png": "[encoded data removed]",
      "text/plain": [
       "<Figure size 432x288 with 1 Axes>"
      ]
     },
     "metadata": {
      "needs_background": "light"
     },
     "output_type": "display_data"
    }
   ],
   "source": [
    "sns.countplot(data = dt,x = \"Y\")"
   ]
  },
  {
   "cell_type": "code",
   "execution_count": 11,
   "id": "dac84603",
   "metadata": {},
   "outputs": [
    {
     "data": {
      "image/png": "[encoded data removed]",
      "text/plain": [
       "<Figure size 432x288 with 1 Axes>"
      ]
     },
     "metadata": {},
     "output_type": "display_data"
    }
   ],
   "source": [
    "#plt.rcParams['axes.labelsize'] = 10\n",
    "sns.set(font_scale = 2)\n",
    "plt.rcParams['text.color'] = 'blue'\n",
    "#plt.rcParams['font.size'] = 10\n",
    "sns.histplot(data = dt,x = \"L\",kde=True)\n",
    "plt.show()"
   ]
  },
  {
   "cell_type": "code",
   "execution_count": 12,
   "id": "3e33dee9",
   "metadata": {},
   "outputs": [
    {
     "data": {
      "text/plain": [
       "count    2813.00000\n",
       "mean       80.36829\n",
       "std        38.97688\n",
       "min        13.00000\n",
       "10%        39.00000\n",
       "20%        48.00000\n",
       "30%        57.00000\n",
       "40%        65.00000\n",
       "50%        73.00000\n",
       "60%        82.00000\n",
       "70%        92.00000\n",
       "80%       107.00000\n",
       "90%       131.00000\n",
       "100%      401.00000\n",
       "max       401.00000\n",
       "Name: L, dtype: float64"
      ]
     },
     "execution_count": 12,
     "metadata": {},
     "output_type": "execute_result"
    }
   ],
   "source": [
    "dt[\"L\"].describe(percentiles=[0.1,0.2,0.3,0.4,0.5,0.6,0.7,0.8,0.9,1.0])"
   ]
  },
  {
   "cell_type": "code",
   "execution_count": 13,
   "id": "6bf3c4d3",
   "metadata": {},
   "outputs": [],
   "source": [
    "LABEL_VALUES = [0, 1]\n",
    "label_map = {}\n",
    "for (i, label) in enumerate(LABEL_VALUES):\n",
    "    label_map[label] = i"
   ]
  },
  {
   "cell_type": "code",
   "execution_count": 14,
   "id": "b934eccd",
   "metadata": {},
   "outputs": [
    {
     "data": {
      "text/plain": [
       "0"
      ]
     },
     "execution_count": 14,
     "metadata": {},
     "output_type": "execute_result"
    }
   ],
   "source": [
    "label_map[0]"
   ]
  },
  {
   "cell_type": "code",
   "execution_count": 15,
   "id": "7ec66365",
   "metadata": {},
   "outputs": [
    {
     "name": "stderr",
     "output_type": "stream",
     "text": [
      "The tokenizer class you load from this checkpoint is not the same type as the class this function is called from. It may result in unexpected tokenization. \n",
      "The tokenizer class you load from this checkpoint is 'BertJapaneseTokenizer'. \n",
      "The class this function is called from is 'DistilBertTokenizer'.\n"
     ]
    }
   ],
   "source": [
    "from transformers import DistilBertTokenizer\n",
    "max_seq_length = 110\n",
    "train_output_file = \"train_data.tfrecord\"\n",
    "test_output_file = \"test_data.tfrecord\"\n",
    "tokenizer = DistilBertTokenizer.from_pretrained(\"cl-tohoku/bert-base-japanese-whole-word-masking\")"
   ]
  },
  {
   "cell_type": "code",
   "execution_count": 16,
   "id": "239534b5",
   "metadata": {},
   "outputs": [],
   "source": [
    "def create_tf_data_file(dt,output_file):\n",
    "    tf_record_writer = tf.io.TFRecordWriter(output_file)\n",
    "    for i in range(dt.shape[0]):\n",
    "        all_features = collections.OrderedDict()\n",
    "        text = dt[\"X\"][i]\n",
    "        encode_plus_tokens = tokenizer.encode_plus(text,padding='max_length',max_length=max_seq_length,truncation=True)\n",
    "        input_ids = encode_plus_tokens[\"input_ids\"]\n",
    "        input_mask = encode_plus_tokens[\"attention_mask\"]\n",
    "        segment_ids = [0] * max_seq_length\n",
    "        label_id = text = dt[\"Y\"][i]\n",
    "        all_features[\"input_ids\"] = tf.train.Feature(int64_list=tf.train.Int64List(value=input_ids))\n",
    "        all_features[\"input_mask\"] = tf.train.Feature(int64_list=tf.train.Int64List(value=input_mask))\n",
    "        all_features[\"segment_ids\"] = tf.train.Feature(int64_list=tf.train.Int64List(value=segment_ids))\n",
    "        all_features[\"label_ids\"] = tf.train.Feature(int64_list=tf.train.Int64List(value=[label_id]))\n",
    "\n",
    "        tf_record = tf.train.Example(features=tf.train.Features(feature=all_features))\n",
    "        tf_record_writer.write(tf_record.SerializeToString())\n",
    "    tf_record_writer.close()"
   ]
  },
  {
   "cell_type": "code",
   "execution_count": 3,
   "id": "aee3371f",
   "metadata": {},
   "outputs": [],
   "source": [
    "from sklearn.model_selection import train_test_split"
   ]
  },
  {
   "cell_type": "code",
   "execution_count": 22,
   "id": "5560f17e",
   "metadata": {},
   "outputs": [],
   "source": [
    "dt_train,dt_test = train_test_split(dt,test_size=0.2,stratify = dt[\"Y\"])\n",
    "dt_train = dt_train.reset_index()\n",
    "dt_test = dt_test.reset_index()"
   ]
  },
  {
   "cell_type": "code",
   "execution_count": 24,
   "id": "38d1cf37",
   "metadata": {},
   "outputs": [],
   "source": [
    "create_tf_data_file(dt_train,train_output_file)\n",
    "create_tf_data_file(dt_test,test_output_file)"
   ]
  },
  {
   "cell_type": "code",
   "execution_count": null,
   "id": "847ca1a4",
   "metadata": {},
   "outputs": [],
   "source": []
  },
  {
   "cell_type": "code",
   "execution_count": null,
   "id": "62e9118a",
   "metadata": {},
   "outputs": [],
   "source": []
  }
 ],
 "metadata": {
  "kernelspec": {
   "display_name": "Python 3 (ipykernel)",
   "language": "python",
   "name": "python3"
  },
  "language_info": {
   "codemirror_mode": {
    "name": "ipython",
    "version": 3
   },
   "file_extension": ".py",
   "mimetype": "text/x-python",
   "name": "python",
   "nbconvert_exporter": "python",
   "pygments_lexer": "ipython3",
   "version": "3.7.7"
  }
 },
 "nbformat": 4,
 "nbformat_minor": 5
}
